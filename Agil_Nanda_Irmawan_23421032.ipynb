{
  "nbformat": 4,
  "nbformat_minor": 0,
  "metadata": {
    "colab": {
      "provenance": []
    },
    "kernelspec": {
      "name": "python3",
      "display_name": "Python 3"
    },
    "language_info": {
      "name": "python"
    }
  },
  "cells": [
    {
      "cell_type": "code",
      "execution_count": 18,
      "metadata": {
        "id": "Gfzq7icXf23v"
      },
      "outputs": [],
      "source": [
        "import matplotlib as plt\n",
        "from sklearn.datasets import make_blobs\n",
        "from sklearn.cluster import KMeans\n",
        "from sklearn.metrics import silhouette_score\n",
        "from sklearn.preprocessing import StandardScaler\n",
        ""
      ]
    },
    {
      "cell_type": "code",
      "source": [
        "features, true_label = make_blobs(\n",
        "    n_samples=320,\n",
        "    centers=5,\n",
        "    cluster_std=2,\n",
        "    random_state=42\n",
        ")\n",
        ""
      ],
      "metadata": {
        "id": "QblrZqTLgEXw"
      },
      "execution_count": 19,
      "outputs": []
    },
    {
      "cell_type": "code",
      "source": [
        "\n",
        "true_label[:200]\n",
        ""
      ],
      "metadata": {
        "colab": {
          "base_uri": "https://localhost:8080/"
        },
        "id": "_9eDNjpIgoaM",
        "outputId": "3245830f-9f04-4468-d0fd-c8fcd1b73b7b"
      },
      "execution_count": 20,
      "outputs": [
        {
          "output_type": "execute_result",
          "data": {
            "text/plain": [
              "array([2, 2, 1, 4, 2, 3, 0, 0, 4, 3, 1, 1, 2, 1, 3, 0, 0, 3, 2, 3, 0, 4,\n",
              "       2, 1, 4, 4, 3, 1, 3, 4, 0, 4, 4, 2, 3, 0, 0, 1, 4, 3, 4, 4, 2, 0,\n",
              "       1, 3, 2, 3, 4, 1, 3, 1, 1, 4, 2, 0, 3, 1, 2, 0, 0, 4, 2, 3, 2, 2,\n",
              "       4, 3, 4, 4, 3, 1, 0, 3, 1, 3, 4, 2, 0, 4, 1, 0, 0, 4, 2, 4, 2, 1,\n",
              "       0, 4, 1, 3, 3, 1, 3, 4, 2, 2, 0, 1, 4, 1, 4, 1, 0, 4, 3, 3, 2, 3,\n",
              "       2, 2, 4, 3, 1, 4, 4, 2, 2, 1, 1, 3, 0, 3, 1, 3, 0, 0, 4, 3, 4, 1,\n",
              "       0, 3, 2, 3, 1, 3, 3, 2, 0, 0, 1, 1, 4, 2, 2, 0, 4, 2, 3, 3, 2, 3,\n",
              "       0, 4, 4, 4, 1, 4, 3, 0, 0, 2, 3, 2, 2, 3, 0, 3, 2, 2, 0, 0, 0, 3,\n",
              "       1, 1, 4, 1, 1, 2, 4, 0, 0, 3, 0, 1, 0, 3, 3, 2, 1, 1, 4, 1, 1, 3,\n",
              "       2, 4])"
            ]
          },
          "metadata": {},
          "execution_count": 20
        }
      ]
    },
    {
      "cell_type": "code",
      "source": [
        "\n",
        "standard_skala = StandardScaler()\n",
        "skala_fitur = standard_skala.fit_transform(features)"
      ],
      "metadata": {
        "id": "yMNd2l_9gudf"
      },
      "execution_count": 21,
      "outputs": []
    },
    {
      "cell_type": "code",
      "source": [
        "skala_fitur[:10]"
      ],
      "metadata": {
        "colab": {
          "base_uri": "https://localhost:8080/"
        },
        "id": "S9k1T7gHgzNI",
        "outputId": "d613d149-acfb-4b72-83fb-1e53fd402a0e"
      },
      "execution_count": 22,
      "outputs": [
        {
          "output_type": "execute_result",
          "data": {
            "text/plain": [
              "array([[-1.10714503, -1.75744813],\n",
              "       [-1.14571748, -1.6029574 ],\n",
              "       [ 1.32462081, -0.55353772],\n",
              "       [ 0.92197234,  0.88185293],\n",
              "       [-0.81193162, -1.91416267],\n",
              "       [-1.42430712,  0.4227901 ],\n",
              "       [ 0.52142938,  0.82532873],\n",
              "       [-0.36538978,  0.52318587],\n",
              "       [ 0.33480217, -0.25721665],\n",
              "       [-1.40990618,  0.30995136]])"
            ]
          },
          "metadata": {},
          "execution_count": 22
        }
      ]
    },
    {
      "cell_type": "code",
      "source": [
        "metode_kmeans = KMeans(\n",
        "    init=\"random\",\n",
        "    n_clusters=5,\n",
        "    n_init=10,\n",
        "    max_iter=100,\n",
        "    random_state=41\n",
        "    )"
      ],
      "metadata": {
        "id": "pClhOwDkg5ua"
      },
      "execution_count": 23,
      "outputs": []
    },
    {
      "cell_type": "code",
      "source": [
        "\n",
        "metode_kmeans.fit(skala_fitur)"
      ],
      "metadata": {
        "colab": {
          "base_uri": "https://localhost:8080/",
          "height": 75
        },
        "id": "x6O1ASRjg9Qn",
        "outputId": "863a3c70-1073-4a4b-ddab-132eb0f8e8dc"
      },
      "execution_count": 24,
      "outputs": [
        {
          "output_type": "execute_result",
          "data": {
            "text/plain": [
              "KMeans(init='random', max_iter=100, n_clusters=5, n_init=10, random_state=41)"
            ],
            "text/html": [
              "<style>#sk-container-id-2 {color: black;background-color: white;}#sk-container-id-2 pre{padding: 0;}#sk-container-id-2 div.sk-toggleable {background-color: white;}#sk-container-id-2 label.sk-toggleable__label {cursor: pointer;display: block;width: 100%;margin-bottom: 0;padding: 0.3em;box-sizing: border-box;text-align: center;}#sk-container-id-2 label.sk-toggleable__label-arrow:before {content: \"▸\";float: left;margin-right: 0.25em;color: #696969;}#sk-container-id-2 label.sk-toggleable__label-arrow:hover:before {color: black;}#sk-container-id-2 div.sk-estimator:hover label.sk-toggleable__label-arrow:before {color: black;}#sk-container-id-2 div.sk-toggleable__content {max-height: 0;max-width: 0;overflow: hidden;text-align: left;background-color: #f0f8ff;}#sk-container-id-2 div.sk-toggleable__content pre {margin: 0.2em;color: black;border-radius: 0.25em;background-color: #f0f8ff;}#sk-container-id-2 input.sk-toggleable__control:checked~div.sk-toggleable__content {max-height: 200px;max-width: 100%;overflow: auto;}#sk-container-id-2 input.sk-toggleable__control:checked~label.sk-toggleable__label-arrow:before {content: \"▾\";}#sk-container-id-2 div.sk-estimator input.sk-toggleable__control:checked~label.sk-toggleable__label {background-color: #d4ebff;}#sk-container-id-2 div.sk-label input.sk-toggleable__control:checked~label.sk-toggleable__label {background-color: #d4ebff;}#sk-container-id-2 input.sk-hidden--visually {border: 0;clip: rect(1px 1px 1px 1px);clip: rect(1px, 1px, 1px, 1px);height: 1px;margin: -1px;overflow: hidden;padding: 0;position: absolute;width: 1px;}#sk-container-id-2 div.sk-estimator {font-family: monospace;background-color: #f0f8ff;border: 1px dotted black;border-radius: 0.25em;box-sizing: border-box;margin-bottom: 0.5em;}#sk-container-id-2 div.sk-estimator:hover {background-color: #d4ebff;}#sk-container-id-2 div.sk-parallel-item::after {content: \"\";width: 100%;border-bottom: 1px solid gray;flex-grow: 1;}#sk-container-id-2 div.sk-label:hover label.sk-toggleable__label {background-color: #d4ebff;}#sk-container-id-2 div.sk-serial::before {content: \"\";position: absolute;border-left: 1px solid gray;box-sizing: border-box;top: 0;bottom: 0;left: 50%;z-index: 0;}#sk-container-id-2 div.sk-serial {display: flex;flex-direction: column;align-items: center;background-color: white;padding-right: 0.2em;padding-left: 0.2em;position: relative;}#sk-container-id-2 div.sk-item {position: relative;z-index: 1;}#sk-container-id-2 div.sk-parallel {display: flex;align-items: stretch;justify-content: center;background-color: white;position: relative;}#sk-container-id-2 div.sk-item::before, #sk-container-id-2 div.sk-parallel-item::before {content: \"\";position: absolute;border-left: 1px solid gray;box-sizing: border-box;top: 0;bottom: 0;left: 50%;z-index: -1;}#sk-container-id-2 div.sk-parallel-item {display: flex;flex-direction: column;z-index: 1;position: relative;background-color: white;}#sk-container-id-2 div.sk-parallel-item:first-child::after {align-self: flex-end;width: 50%;}#sk-container-id-2 div.sk-parallel-item:last-child::after {align-self: flex-start;width: 50%;}#sk-container-id-2 div.sk-parallel-item:only-child::after {width: 0;}#sk-container-id-2 div.sk-dashed-wrapped {border: 1px dashed gray;margin: 0 0.4em 0.5em 0.4em;box-sizing: border-box;padding-bottom: 0.4em;background-color: white;}#sk-container-id-2 div.sk-label label {font-family: monospace;font-weight: bold;display: inline-block;line-height: 1.2em;}#sk-container-id-2 div.sk-label-container {text-align: center;}#sk-container-id-2 div.sk-container {/* jupyter's `normalize.less` sets `[hidden] { display: none; }` but bootstrap.min.css set `[hidden] { display: none !important; }` so we also need the `!important` here to be able to override the default hidden behavior on the sphinx rendered scikit-learn.org. See: https://github.com/scikit-learn/scikit-learn/issues/21755 */display: inline-block !important;position: relative;}#sk-container-id-2 div.sk-text-repr-fallback {display: none;}</style><div id=\"sk-container-id-2\" class=\"sk-top-container\"><div class=\"sk-text-repr-fallback\"><pre>KMeans(init=&#x27;random&#x27;, max_iter=100, n_clusters=5, n_init=10, random_state=41)</pre><b>In a Jupyter environment, please rerun this cell to show the HTML representation or trust the notebook. <br />On GitHub, the HTML representation is unable to render, please try loading this page with nbviewer.org.</b></div><div class=\"sk-container\" hidden><div class=\"sk-item\"><div class=\"sk-estimator sk-toggleable\"><input class=\"sk-toggleable__control sk-hidden--visually\" id=\"sk-estimator-id-2\" type=\"checkbox\" checked><label for=\"sk-estimator-id-2\" class=\"sk-toggleable__label sk-toggleable__label-arrow\">KMeans</label><div class=\"sk-toggleable__content\"><pre>KMeans(init=&#x27;random&#x27;, max_iter=100, n_clusters=5, n_init=10, random_state=41)</pre></div></div></div></div></div>"
            ]
          },
          "metadata": {},
          "execution_count": 24
        }
      ]
    },
    {
      "cell_type": "code",
      "source": [
        "metode_kmeans.inertia_"
      ],
      "metadata": {
        "colab": {
          "base_uri": "https://localhost:8080/"
        },
        "id": "nW3rk72BhD9a",
        "outputId": "54f7d38d-f1da-44dd-bafc-4111bead6811"
      },
      "execution_count": 25,
      "outputs": [
        {
          "output_type": "execute_result",
          "data": {
            "text/plain": [
              "65.21864370525225"
            ]
          },
          "metadata": {},
          "execution_count": 25
        }
      ]
    },
    {
      "cell_type": "code",
      "source": [
        "metode_kmeans.cluster_centers_"
      ],
      "metadata": {
        "colab": {
          "base_uri": "https://localhost:8080/"
        },
        "id": "Bh8i9wcshL_f",
        "outputId": "08c255a4-a83e-4048-e0a9-0019e977a3ab"
      },
      "execution_count": 26,
      "outputs": [
        {
          "output_type": "execute_result",
          "data": {
            "text/plain": [
              "array([[-0.74479611, -1.71755179],\n",
              "       [ 1.43378597, -0.09962177],\n",
              "       [ 0.77542141,  0.07539574],\n",
              "       [-1.33883455,  0.70035864],\n",
              "       [-0.13116902,  0.94306278]])"
            ]
          },
          "metadata": {},
          "execution_count": 26
        }
      ]
    },
    {
      "cell_type": "code",
      "source": [
        "metode_kmeans.n_iter_"
      ],
      "metadata": {
        "colab": {
          "base_uri": "https://localhost:8080/"
        },
        "id": "r1okRHyMhRnO",
        "outputId": "04c1894c-ab7c-4b38-e812-246c8d9e7c68"
      },
      "execution_count": 27,
      "outputs": [
        {
          "output_type": "execute_result",
          "data": {
            "text/plain": [
              "14"
            ]
          },
          "metadata": {},
          "execution_count": 27
        }
      ]
    },
    {
      "cell_type": "code",
      "source": [
        "metode_kmeans.labels_"
      ],
      "metadata": {
        "colab": {
          "base_uri": "https://localhost:8080/"
        },
        "id": "vlM3ApALhX4Q",
        "outputId": "87f2fed3-0bce-451b-86c7-14b2281f1a19"
      },
      "execution_count": 28,
      "outputs": [
        {
          "output_type": "execute_result",
          "data": {
            "text/plain": [
              "array([0, 0, 1, 2, 0, 3, 4, 4, 2, 3, 2, 2, 0, 2, 3, 4, 4, 3, 0, 3, 4, 2,\n",
              "       0, 1, 2, 2, 3, 1, 3, 1, 2, 2, 4, 0, 3, 4, 4, 2, 1, 3, 2, 2, 0, 4,\n",
              "       1, 3, 0, 3, 2, 1, 3, 2, 1, 1, 0, 4, 3, 2, 0, 4, 4, 2, 0, 3, 0, 0,\n",
              "       2, 3, 1, 1, 3, 1, 4, 3, 2, 3, 2, 0, 4, 2, 1, 4, 4, 2, 0, 1, 0, 1,\n",
              "       4, 2, 1, 4, 3, 1, 3, 2, 0, 0, 4, 2, 2, 1, 2, 1, 4, 1, 4, 3, 0, 3,\n",
              "       0, 0, 2, 3, 1, 2, 2, 0, 0, 1, 1, 3, 4, 3, 1, 3, 4, 4, 2, 4, 2, 1,\n",
              "       4, 3, 0, 3, 2, 3, 3, 0, 4, 4, 1, 2, 1, 0, 0, 4, 2, 0, 4, 3, 0, 3,\n",
              "       4, 4, 2, 2, 1, 1, 4, 4, 4, 0, 3, 0, 0, 3, 4, 3, 0, 0, 4, 4, 4, 4,\n",
              "       1, 2, 1, 2, 2, 0, 2, 4, 3, 3, 4, 1, 4, 3, 4, 0, 2, 1, 2, 1, 2, 3,\n",
              "       0, 2, 4, 4, 3, 1, 4, 2, 4, 4, 4, 3, 2, 2, 3, 2, 4, 2, 2, 3, 1, 4,\n",
              "       1, 2, 2, 0, 4, 0, 2, 1, 4, 4, 4, 0, 2, 2, 3, 0, 4, 4, 2, 3, 4, 0,\n",
              "       4, 2, 0, 4, 4, 3, 1, 2, 0, 1, 0, 4, 2, 1, 4, 3, 0, 0, 1, 2, 2, 1,\n",
              "       1, 1, 1, 4, 1, 3, 3, 3, 4, 3, 3, 4, 0, 2, 1, 0, 1, 0, 4, 2, 0, 0,\n",
              "       3, 1, 1, 3, 0, 1, 2, 4, 4, 0, 4, 2, 0, 4, 3, 4, 0, 3, 2, 2, 0, 2,\n",
              "       1, 0, 2, 1, 4, 0, 0, 0, 4, 2, 0, 0], dtype=int32)"
            ]
          },
          "metadata": {},
          "execution_count": 28
        }
      ]
    },
    {
      "cell_type": "code",
      "source": [
        "import numpy as np\n",
        "import matplotlib.pyplot as plt\n",
        "import pandas as pd"
      ],
      "metadata": {
        "id": "wZ7A9_L3hfYc"
      },
      "execution_count": 29,
      "outputs": []
    },
    {
      "cell_type": "code",
      "source": [],
      "metadata": {
        "id": "5D2JqPcthicW"
      },
      "execution_count": 29,
      "outputs": []
    },
    {
      "cell_type": "code",
      "source": [
        "\n",
        "\n",
        "color = np.array([\"Red\",\"Green\",\"Blue\",\"yellow\",\"brown\"])\n",
        "plt.subplot(1,2,2)\n",
        "plt.scatter(skala_fitur[:,0], skala_fitur[:,1], s=50, alpha=1, cmap='viridis', c=color[metode_kmeans.labels_])\n",
        "\n",
        ""
      ],
      "metadata": {
        "colab": {
          "base_uri": "https://localhost:8080/",
          "height": 484
        },
        "id": "AERC26LghirE",
        "outputId": "002ad702-7824-4c24-e83c-b2560a0e8c28"
      },
      "execution_count": 30,
      "outputs": [
        {
          "output_type": "stream",
          "name": "stderr",
          "text": [
            "<ipython-input-30-e7d4304d4acc>:3: UserWarning: No data for colormapping provided via 'c'. Parameters 'cmap' will be ignored\n",
            "  plt.scatter(skala_fitur[:,0], skala_fitur[:,1], s=50, alpha=1, cmap='viridis', c=color[metode_kmeans.labels_])\n"
          ]
        },
        {
          "output_type": "execute_result",
          "data": {
            "text/plain": [
              "<matplotlib.collections.PathCollection at 0x79b96283bdf0>"
            ]
          },
          "metadata": {},
          "execution_count": 30
        },
        {
          "output_type": "display_data",
          "data": {
            "text/plain": [
              "<Figure size 640x480 with 1 Axes>"
            ],
            "image/png": "[encoded data removed]"
          },
          "metadata": {}
        }
      ]
    }
  ]
}